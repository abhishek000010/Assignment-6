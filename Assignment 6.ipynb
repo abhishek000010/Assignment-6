{
 "cells": [
  {
   "cell_type": "code",
   "execution_count": null,
   "id": "5952ab7b-e518-4457-9c7a-0c412db13a61",
   "metadata": {},
   "outputs": [],
   "source": [
    "Q1 -> Explain Class and Object with respect to Object-Oriented Programming. Give a suitable example. ?\n",
    "\n",
    "Ans -> A class is a code template for creating objects. Objects have member variables and have behaviour associated with them. In python a class is created by the keyword class.\n",
    "\n",
    "An object is created using the constructor of the class. This object will then be called the instance of the class. In Python we create instances in the following manner\n",
    "\n",
    "# object\n",
    "The object is an entity that has a state and behavior associated with it. It may be any real-world object like a mouse, keyboard, chair, table, pen, etc. Integers, strings, \n",
    "floating-point numbers, even arrays, and dictionaries, are all objects.\n",
    "\n",
    "# example of class and object\n",
    "# we are making a class with the name snake\n",
    "class snake:\n",
    "    print(\"I am snake\")\n",
    "# and here we are creating an onject of a class with the name snake_ob\n",
    "snake_ob = snake()\n",
    "print(snake)"
   ]
  },
  {
   "cell_type": "code",
   "execution_count": null,
   "id": "4b8ca0b5-6e57-474d-a441-a3fc75c307e3",
   "metadata": {},
   "outputs": [],
   "source": [
    "Q2 -> Name the four pillars of OOPs.\n",
    "\n",
    "Ans -> four pillar of oops is\n",
    "1) Polymorphism\n",
    "2) Encapsulation\n",
    "3) Inheritance\n",
    "4) Abstraction\n"
   ]
  },
  {
   "cell_type": "code",
   "execution_count": 8,
   "id": "edc73804-0ae7-42a2-a4a9-1e96fc74a783",
   "metadata": {},
   "outputs": [],
   "source": [
    "Q3 -> Explain why the __init__() function is used. Give a suitable example.\n",
    "\n",
    "Ans -> A constructor is a special method that the program calls upon an object’s creation. The constructor is used in the class to initialize data members to the object.\n",
    "With our dog class example, you can use a constructor to assign dog characteristics to each Fox Terrier object. The special method __init__ is the Python constructor.\n",
    "The __init__ method is the Python equivalent of the C++ constructor in an object-oriented approach. The __init__  function is called every time an object is created from a class.\n",
    "The __init__ method lets the class initialize the object’s attributes and serves no other purpose. It is only used within classes. \n",
    "\n",
    "class Dog:\n",
    "    def __init__ (self, dogBreed , dogEyeColor):\n",
    "        self.breed = dogBreed\n",
    "        self.eyecolor = dogEyeColor\n",
    "    \n",
    "tomita = dog(\"Fox Terror\" , \"broen\")\n",
    "print(tomita.eyecolor)"
   ]
  },
  {
   "cell_type": "code",
   "execution_count": null,
   "id": "c08a18e9-cf33-4530-ae04-a3a71a0d5623",
   "metadata": {},
   "outputs": [],
   "source": [
    "Q4 -> Why self is used in OOPs?\n",
    "\n",
    "Ans -> The self keyword is used to represent an instance (object) of the given class. In this case, the two \n",
    "Cat objects cat1 and cat2 have their own name and age attributes. If there was no self argument, the same class couldn't hold the information for both these objects.\n",
    "However, since the class is just a blueprint, self allows access to the attributes and methods of each object in python.\n",
    "This allows each object to have its own attributes and methods. Thus, even long before creating these objects, we reference the objects as self while defining the class.\n",
    "\n",
    "# example\n",
    "class cat:\n",
    "    def __init__(self , name ,age):\n",
    "        self.name = name\n",
    "        self.age = age\n",
    "    def info (self):\n",
    "        print(f\"I am a cat. my name is{self.name} , i am {self.age} year old.\")\n",
    "    def make_sound(self):\n",
    "        print(\"meow\")\n",
    "\n",
    "cat1 = cat('Andy' , 3) "
   ]
  },
  {
   "cell_type": "code",
   "execution_count": 10,
   "id": "abfb79b5-b1dd-4892-b0dd-39882eada019",
   "metadata": {},
   "outputs": [
    {
     "name": "stdout",
     "output_type": "stream",
     "text": [
      "basic function of parent\n",
      "basic function of child\n"
     ]
    }
   ],
   "source": [
    "Q5 -> What is inheritance? Give an example for each type of inheritance.\n",
    "\n",
    "Ans -> Inheritance allows us to define a class that inherits all the methods and properties from another class.\n",
    "\n",
    "Parent class is the class being inherited from, also called base class.\n",
    "\n",
    "Child class is the class that inherits from another class, also called derived class.\n",
    "\n",
    "single inheritence is a inheritence where we have only one parent class and one base class \n",
    "# example of single inheritence\n",
    "class class_1:\n",
    "    def __init__(self):\n",
    "        self.str1 = \"hello\"\n",
    "        \n",
    "class base_class(class_1):\n",
    "    pass\n",
    "\n",
    "class_ob = base_class()\n",
    "class_ob.str1\n",
    "\n",
    "# example of multiple inheritence\n",
    "class Parent1:\n",
    "    def func1(self):\n",
    "        print(\"this is a Parenet function\")\n",
    "class Parent2:\n",
    "    def func2(self):\n",
    "        print(\"this is another Parent function\")\n",
    "\n",
    "class child(Parent1 , Parent2):\n",
    "    def  __init__(self):\n",
    "        pass\n",
    "obj_child = child()\n",
    "obj_child.func1()\n",
    "obj_child.func2()\n",
    "\n",
    "# multilevel inheritence\n",
    "\n",
    "class Parent:\n",
    "    def func1(self):\n",
    "        print(\"basic function of parent\")\n",
    "class child(Parent):\n",
    "    def func2(self):\n",
    "        print(\"basic function of child\")\n",
    "class Grandchild(child):\n",
    "        def __init__(self):\n",
    "            pass\n",
    "class_ob = Grandchild()\n",
    "class_ob.func1()\n",
    "class_ob.func2()\n",
    "\n"
   ]
  },
  {
   "cell_type": "code",
   "execution_count": null,
   "id": "2f524f7e-612b-40e1-93b0-9e221a15ab93",
   "metadata": {},
   "outputs": [],
   "source": []
  },
  {
   "cell_type": "code",
   "execution_count": null,
   "id": "01cf8aae-c785-40a3-ba86-a4b7bd567f5c",
   "metadata": {},
   "outputs": [],
   "source": []
  },
  {
   "cell_type": "code",
   "execution_count": null,
   "id": "f8bf2f77-6f36-4393-8ad0-86c24149b6a4",
   "metadata": {},
   "outputs": [],
   "source": []
  },
  {
   "cell_type": "code",
   "execution_count": null,
   "id": "2c1264f5-9189-45cf-8ef0-b43452344d6d",
   "metadata": {},
   "outputs": [],
   "source": []
  },
  {
   "cell_type": "code",
   "execution_count": null,
   "id": "3c4f2c00-f656-47d9-8596-7040812272b6",
   "metadata": {},
   "outputs": [],
   "source": []
  },
  {
   "cell_type": "code",
   "execution_count": null,
   "id": "05fc5838-8e43-49cc-bbb2-b0e0a7a92208",
   "metadata": {},
   "outputs": [],
   "source": []
  },
  {
   "cell_type": "code",
   "execution_count": null,
   "id": "bc9eb0cf-0bbb-4c8d-b585-d75537a7bf7d",
   "metadata": {},
   "outputs": [],
   "source": []
  },
  {
   "cell_type": "code",
   "execution_count": null,
   "id": "22e37670-346d-4bbe-b293-71565c0e2b56",
   "metadata": {},
   "outputs": [],
   "source": []
  },
  {
   "cell_type": "code",
   "execution_count": null,
   "id": "50b6f37d-b95b-4dad-b587-dc998732017f",
   "metadata": {},
   "outputs": [],
   "source": []
  },
  {
   "cell_type": "code",
   "execution_count": null,
   "id": "b8ac0bf5-2151-4a74-85d9-f8fb2b52a55c",
   "metadata": {},
   "outputs": [],
   "source": []
  },
  {
   "cell_type": "code",
   "execution_count": null,
   "id": "50b42873-6057-40be-a6a1-025018870e86",
   "metadata": {},
   "outputs": [],
   "source": []
  },
  {
   "cell_type": "code",
   "execution_count": null,
   "id": "d2f1444a-1ab4-4568-8997-4d7bc5cbce46",
   "metadata": {},
   "outputs": [],
   "source": []
  }
 ],
 "metadata": {
  "kernelspec": {
   "display_name": "Python 3 (ipykernel)",
   "language": "python",
   "name": "python3"
  },
  "language_info": {
   "codemirror_mode": {
    "name": "ipython",
    "version": 3
   },
   "file_extension": ".py",
   "mimetype": "text/x-python",
   "name": "python",
   "nbconvert_exporter": "python",
   "pygments_lexer": "ipython3",
   "version": "3.10.8"
  }
 },
 "nbformat": 4,
 "nbformat_minor": 5
}
